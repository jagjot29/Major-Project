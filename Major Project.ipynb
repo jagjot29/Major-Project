{
  "nbformat": 4,
  "nbformat_minor": 0,
  "metadata": {
    "colab": {
      "name": "Major Project.ipynb",
      "provenance": []
    },
    "kernelspec": {
      "name": "python3",
      "display_name": "Python 3"
    },
    "language_info": {
      "name": "python"
    }
  },
  "cells": [
    {
      "cell_type": "code",
      "metadata": {
        "id": "9JAN4mbYFdP-",
        "colab": {
          "base_uri": "https://localhost:8080/"
        },
        "outputId": "64f842ad-e29a-45b5-a241-93e5411b4edd"
      },
      "source": [
        "!pip install streamlit --quiet\n",
        "!pip install pyngrok==4.1.1 --quiet\n",
        "from pyngrok import ngrok\n"
      ],
      "execution_count": 1,
      "outputs": [
        {
          "output_type": "stream",
          "text": [
            "\u001b[K     |████████████████████████████████| 8.2MB 4.9MB/s \n",
            "\u001b[K     |████████████████████████████████| 112kB 50.0MB/s \n",
            "\u001b[K     |████████████████████████████████| 81kB 9.9MB/s \n",
            "\u001b[K     |████████████████████████████████| 174kB 46.2MB/s \n",
            "\u001b[K     |████████████████████████████████| 4.2MB 47.7MB/s \n",
            "\u001b[K     |████████████████████████████████| 71kB 9.4MB/s \n",
            "\u001b[K     |████████████████████████████████| 122kB 60.1MB/s \n",
            "\u001b[?25h  Building wheel for blinker (setup.py) ... \u001b[?25l\u001b[?25hdone\n",
            "\u001b[31mERROR: google-colab 1.0.0 has requirement ipykernel~=4.10, but you'll have ipykernel 5.5.5 which is incompatible.\u001b[0m\n",
            "  Building wheel for pyngrok (setup.py) ... \u001b[?25l\u001b[?25hdone\n"
          ],
          "name": "stdout"
        }
      ]
    },
    {
      "cell_type": "code",
      "metadata": {
        "colab": {
          "base_uri": "https://localhost:8080/"
        },
        "id": "FKJXXYOVHYrX",
        "outputId": "58590f7b-e173-49d8-b230-8cf8fff7b1df"
      },
      "source": [
        "%%writefile app.py\n",
        "import streamlit as st \n",
        "import os\n",
        "from textblob import TextBlob \n",
        "\n",
        "# Title\n",
        "st.title(\"Sentiment Analysis\")\n",
        "\n",
        "result_sentiment = 2\n",
        "# Sentiment Analysis\n",
        "st.subheader(\"Analyse Your Text\")\n",
        "\n",
        "message = st.text_area(\"Enter Text\")\n",
        "if st.button(\"Analyze\"):\n",
        "\t\t\tblob = TextBlob(message)\n",
        "\t\t\tresult_sentiment = blob.sentiment[0]\n",
        "\t\t\t\n",
        "    \n",
        "if result_sentiment > 0.5 and result_sentiment < 1 :\n",
        "      st.write('Prediction  :')\n",
        "      st.subheader('Positive')\n",
        "      st.success(f'Score : {result_sentiment}')\n",
        "\n",
        "elif result_sentiment < 0 :\n",
        "      st.write('Prediction  :')\n",
        "      st.subheader('Negative')\n",
        "      st.success(f'Score : {result_sentiment}')\n",
        "\n",
        "elif result_sentiment >= 0 and result_sentiment <= 0.5 :\n",
        "      st.write('Prediction  :')\n",
        "      st.subheader('Neutral')\n",
        "      st.success(f'Score : {result_sentiment}')\n"
      ],
      "execution_count": 5,
      "outputs": [
        {
          "output_type": "stream",
          "text": [
            "Overwriting app.py\n"
          ],
          "name": "stdout"
        }
      ]
    },
    {
      "cell_type": "code",
      "metadata": {
        "colab": {
          "base_uri": "https://localhost:8080/",
          "height": 53
        },
        "id": "AsKwOrORHcmG",
        "outputId": "5d9117bd-6747-4ccb-a9dc-fe9b3ddf70c7"
      },
      "source": [
        "!nohup streamlit run app.py &\n",
        "\n",
        "url = ngrok.connect(port='8501')\n",
        "url"
      ],
      "execution_count": 3,
      "outputs": [
        {
          "output_type": "stream",
          "text": [
            "nohup: appending output to 'nohup.out'\n"
          ],
          "name": "stdout"
        },
        {
          "output_type": "execute_result",
          "data": {
            "application/vnd.google.colaboratory.intrinsic+json": {
              "type": "string"
            },
            "text/plain": [
              "'http://f1371473d8fa.ngrok.io'"
            ]
          },
          "metadata": {
            "tags": []
          },
          "execution_count": 3
        }
      ]
    }
  ]
}