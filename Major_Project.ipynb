{
  "nbformat": 4,
  "nbformat_minor": 0,
  "metadata": {
    "colab": {
      "name": "Major Project.ipynb",
      "provenance": []
    },
    "kernelspec": {
      "name": "python3",
      "display_name": "Python 3"
    },
    "language_info": {
      "name": "python"
    }
  },
  "cells": [
    {
      "cell_type": "code",
      "metadata": {
        "id": "9JAN4mbYFdP-"
      },
      "source": [
        "!pip install streamlit --quiet\n"
      ],
      "execution_count": null,
      "outputs": []
    },
    {
      "cell_type": "code",
      "metadata": {
        "colab": {
          "base_uri": "https://localhost:8080/"
        },
        "id": "FKJXXYOVHYrX",
        "outputId": "0488a129-1ee8-4a12-98d2-357936f7bbb2"
      },
      "source": [
        "%%writefile app.py\n",
        "import streamlit as st \n",
        "import os\n",
        "from textblob import TextBlob \n",
        "\n",
        "# Title\n",
        "st.title(\"Sentiment Analysis\")\n",
        "\n",
        "\n",
        "# Sentiment Analysis\n",
        "st.subheader(\"Analyse Your Text\")\n",
        "\n",
        "message = st.text_area(\"Enter Text\")\n",
        "if st.button(\"Analyze\"):\n",
        "\t\t\tblob = TextBlob(message)\n",
        "\t\t\tresult_sentiment = blob.sentiment[0]\n",
        "\t\t\t\n",
        "    \n",
        "if result_sentiment > 0.5 :\n",
        "      st.write('Prediction  :')\n",
        "      st.subheader('Positive')\n",
        "      st.success(f'Score : {result_sentiment}')\n",
        "\n",
        "elif result_sentiment < 0 :\n",
        "      st.write('Prediction  :')\n",
        "      st.subheader('Negative')\n",
        "      st.success(f'Score : {result_sentiment}')\n",
        "\n",
        "else :\n",
        "      st.write('Prediction  :')\n",
        "      st.subheader('Neutral')\n",
        "      st.success(f'Score : {result_sentiment}')\n"
      ],
      "execution_count": null,
      "outputs": [
        {
          "output_type": "stream",
          "text": [
            "Overwriting app.py\n"
          ],
          "name": "stdout"
        }
      ]
    },
    {
      "cell_type": "code",
      "metadata": {
        "colab": {
          "base_uri": "https://localhost:8080/",
          "height": 53
        },
        "id": "AsKwOrORHcmG",
        "outputId": "8cf11500-4011-4300-a496-0005984a1b68"
      },
      "source": [
        "!nohup streamlit run app.py &\n",
        "\n",
        "url = ngrok.connect(port='8501')\n",
        "url"
      ],
      "execution_count": null,
      "outputs": [
        {
          "output_type": "stream",
          "text": [
            "nohup: appending output to 'nohup.out'\n"
          ],
          "name": "stdout"
        },
        {
          "output_type": "execute_result",
          "data": {
            "application/vnd.google.colaboratory.intrinsic+json": {
              "type": "string"
            },
            "text/plain": [
              "'http://bf43836cdaeb.ngrok.io'"
            ]
          },
          "metadata": {
            "tags": []
          },
          "execution_count": 5
        }
      ]
    }
  ]
}